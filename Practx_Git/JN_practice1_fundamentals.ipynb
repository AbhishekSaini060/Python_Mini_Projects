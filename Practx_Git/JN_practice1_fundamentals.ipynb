{
 "cells": [
  {
   "cell_type": "code",
   "execution_count": 5,
   "id": "c83454db",
   "metadata": {},
   "outputs": [
    {
     "name": "stdout",
     "output_type": "stream",
     "text": [
      " first line\n"
     ]
    }
   ],
   "source": [
    "print(\" first line\")\n"
   ]
  },
  {
   "cell_type": "code",
   "execution_count": 6,
   "id": "4be72a97",
   "metadata": {},
   "outputs": [
    {
     "name": "stdout",
     "output_type": "stream",
     "text": [
      "alice 18 True\n"
     ]
    }
   ],
   "source": [
    "name = 'alice'\n",
    "age =  18\n",
    "GPA = 3.85\n",
    "plays_volllyball = True\n",
    "\n",
    "print(name,age,plays_volllyball)\n"
   ]
  },
  {
   "cell_type": "code",
   "execution_count": 7,
   "id": "d4006dfe",
   "metadata": {},
   "outputs": [
    {
     "name": "stdout",
     "output_type": "stream",
     "text": [
      "alice 18 True 3.92\n"
     ]
    }
   ],
   "source": [
    "GPA = GPA+0.07\n",
    "print(name,age,plays_volllyball,GPA)"
   ]
  },
  {
   "cell_type": "markdown",
   "id": "2b87059e",
   "metadata": {},
   "source": [
    "try to print info in a more meaningful manner"
   ]
  },
  {
   "cell_type": "code",
   "execution_count": 8,
   "id": "09b51154",
   "metadata": {},
   "outputs": [
    {
     "name": "stdout",
     "output_type": "stream",
     "text": [
      "the student name is alice,and they are 18 years old. Their GPA is 3.92.\n"
     ]
    }
   ],
   "source": [
    "print (f\"the student name is {name},and they are {age} years old. Their GPA is {GPA}.\")"
   ]
  },
  {
   "cell_type": "markdown",
   "id": "209e2ac8",
   "metadata": {},
   "source": [
    "python list and other data structures "
   ]
  },
  {
   "cell_type": "code",
   "execution_count": 9,
   "id": "13e62638",
   "metadata": {},
   "outputs": [
    {
     "data": {
      "text/plain": [
       "'basketball'"
      ]
     },
     "execution_count": 9,
     "metadata": {},
     "output_type": "execute_result"
    }
   ],
   "source": [
    "sports =['vollyball','basketball','football','cross country']\n",
    "sports[1]"
   ]
  },
  {
   "cell_type": "code",
   "execution_count": 10,
   "id": "f936c285",
   "metadata": {},
   "outputs": [
    {
     "name": "stdout",
     "output_type": "stream",
     "text": [
      "1. ['vollyball', 'basketball', 'football', 'cross country']\n",
      "2. ['vollyball', 'basketball', 'football']\n",
      "3. ['vollyball', 'basketball', 'football', 'cross country']\n",
      "4. ['vollyball', 'basketball', 'football', 'cross country']\n",
      "5. cross country\n",
      "6. ['cross country', 'football', 'basketball', 'vollyball']\n",
      "7. ['vollyball', 'basketball', 'football', 'cross country']\n"
     ]
    }
   ],
   "source": [
    "# sports.append(\"cricket\")\n",
    "\n",
    "print(\"1.\",sports)\n",
    "print(\"2.\",sports[0:3])\n",
    "print(\"3.\",sports[:])\n",
    "print(\"4.\",sports[0::1])\n",
    "print(\"5.\",sports[-1])\n",
    "print(\"6.\",sports[::-1])\n",
    "print(\"7.\",sports[::1])"
   ]
  },
  {
   "cell_type": "markdown",
   "id": "e8a69699",
   "metadata": {},
   "source": [
    "## calculating letter guide\n",
    "- 2 or under D\n",
    "- 3 or under C\n",
    "- 3.8 or under B\n",
    "- Above 3.8 A\n"
   ]
  },
  {
   "cell_type": "code",
   "execution_count": null,
   "id": "167930e5",
   "metadata": {},
   "outputs": [],
   "source": [
    "student_gpa = float(input(\"Enter your GPA\"))\n",
    "# student_gpa-=1\n",
    "print(student_gpa)\n",
    "\n",
    "\n",
    "if student_gpa >= 3.8:\n",
    "    print(\"Grade A\")\n",
    "elif student_gpa >=3:\n",
    "    print(\"Grade B\")\n",
    "elif student_gpa >= 2:\n",
    "    print(\"Grade C\")\n",
    "else :\n",
    "    print(\"Grade D\")"
   ]
  },
  {
   "cell_type": "markdown",
   "id": "1c8a72f1",
   "metadata": {},
   "source": [
    "** Arithmetic Operators **\n"
   ]
  },
  {
   "cell_type": "code",
   "execution_count": null,
   "id": "890a4e88",
   "metadata": {},
   "outputs": [
    {
     "name": "stdout",
     "output_type": "stream",
     "text": [
      "Arithmetic Operators \n",
      "\n",
      "17\n",
      "13\n",
      "30\n",
      "7.5\n",
      "7\n",
      "1\n",
      "225 \n",
      "\n",
      "Comparison Operators \n",
      "\n",
      "False\n",
      "True\n",
      "True\n",
      "False\n",
      "True\n",
      "False \n",
      "\n",
      "Logical Operators \n",
      "\n",
      "2\n",
      "15\n",
      "False \n",
      "\n",
      "Assignment Operators \n",
      "\n",
      "True\n",
      "False \n",
      "\n",
      "Identity Operators\n",
      "False\n",
      "True \n",
      "\n",
      "Walrus Operator\n",
      "\n",
      "17\n"
     ]
    }
   ],
   "source": [
    "x = 15\n",
    "y = 2\n",
    "\n",
    "result = 0\n",
    "\n",
    "# Arithmetic Operators\"\n",
    "print(\"Arithmetic Operators \\n\")\n",
    "\n",
    "print(x+y)\n",
    "print(x-y)\n",
    "print(x*y)\n",
    "print(x/y)\n",
    "print(x//y)\n",
    "print(x%y)\n",
    "print(x**y,'\\n')\n",
    "\n",
    "# Comparison Operators\n",
    "print(\"Comparison Operators \\n\")\n",
    "\n",
    "print(x==y)\n",
    "print(x!=y)\n",
    "print(x>y)\n",
    "print(x<y)\n",
    "print(x>=y)\n",
    "print(x<=y,'\\n')\n",
    "\n",
    "# Logical Operators\n",
    "print(\"Logical Operators \\n\")\n",
    "\n",
    "print(x and y)\n",
    "print(x or  y)\n",
    "print(not y,'\\n')\n",
    "\n",
    "#  Assignment Operators\n",
    "print(\"Assignment Operators \\n\")\n",
    "\n",
    "num=[2,4,5,6,7,8,15]\n",
    "\n",
    "print(x in num)\n",
    "print(y not in num ,'\\n')\n",
    "\n",
    "# Identity Operators\n",
    "print(\"Identity Operators\")\n",
    "\n",
    "print(x is y)\n",
    "print(x is not y ,'\\n')\n",
    "\n",
    "# Walrus Operator\n",
    "print(\"Walrus Operator\\n\")\n",
    "\n",
    "print(result:=x+y)\n",
    "\n",
    "\n"
   ]
  },
  {
   "cell_type": "markdown",
   "id": "f5f717e3",
   "metadata": {},
   "source": [
    "**Python Data Types**"
   ]
  },
  {
   "cell_type": "code",
   "execution_count": null,
   "id": "63d91edf",
   "metadata": {},
   "outputs": [
    {
     "name": "stdout",
     "output_type": "stream",
     "text": [
      "2323\n"
     ]
    }
   ],
   "source": [
    "\n",
    "i =int(input(\"enter something\"))\n",
    "print(i)\n"
   ]
  },
  {
   "cell_type": "code",
   "execution_count": null,
   "id": "d83dc4e0",
   "metadata": {},
   "outputs": [
    {
     "name": "stdout",
     "output_type": "stream",
     "text": [
      "GPA\t age\t i\t name\t num\t plays_volllyball\t result\t sports\t sprots\t \n",
      "student_gpa\t x\t y\t \n"
     ]
    }
   ],
   "source": [
    "%who"
   ]
  },
  {
   "cell_type": "markdown",
   "id": "d42beb3d",
   "metadata": {},
   "source": [
    "Type Conversions"
   ]
  },
  {
   "cell_type": "code",
   "execution_count": null,
   "id": "09c8a8d5",
   "metadata": {},
   "outputs": [
    {
     "name": "stdout",
     "output_type": "stream",
     "text": [
      "<class 'int'>\n",
      "<class 'float'>\n",
      "<class 'float'>\n"
     ]
    }
   ],
   "source": [
    "# implicit type conversion - by itself\n",
    "\n",
    "x = 10\n",
    "print(type(x))\n",
    "\n",
    "y=10.6\n",
    "print(type(y))\n",
    "\n",
    "z=x+y \n",
    "print(type(z)) # implicit conversion done by python \n"
   ]
  },
  {
   "cell_type": "code",
   "execution_count": null,
   "id": "6980dc34",
   "metadata": {},
   "outputs": [
    {
     "name": "stdout",
     "output_type": "stream",
     "text": [
      "10\n",
      "<class 'int'>\n",
      "0b101101\n"
     ]
    }
   ],
   "source": [
    "# explicit conversion\n",
    "\n",
    "s = '1010'\n",
    "i = int(s,2) # convert string '1010' from base 2 (binary) to integer\n",
    "\n",
    "print(i)\n",
    "print(type(i))\n",
    "\n",
    "# reverse conversion\n",
    "p = 45\n",
    "binary_form = bin(p)\n",
    "print(binary_form)\n"
   ]
  },
  {
   "cell_type": "markdown",
   "id": "812d22bc",
   "metadata": {},
   "source": [
    "**Conditinal Statement**"
   ]
  },
  {
   "cell_type": "code",
   "execution_count": null,
   "id": "76540ba5",
   "metadata": {},
   "outputs": [
    {
     "name": "stdout",
     "output_type": "stream",
     "text": [
      "Adult\n"
     ]
    }
   ],
   "source": [
    "# if elif-else\n",
    "\n",
    "age =26\n",
    "\n",
    "if age > 18 :\n",
    "    print(\"Adult\")\n",
    "elif age >17 :\n",
    "    print(\"teenager\")\n",
    "else:\n",
    "    print(\"kid\")\n"
   ]
  },
  {
   "cell_type": "code",
   "execution_count": null,
   "id": "68159464",
   "metadata": {},
   "outputs": [
    {
     "name": "stdout",
     "output_type": "stream",
     "text": [
      "be ready to move\n",
      "lights are not working\n"
     ]
    }
   ],
   "source": [
    "# if ( condition )\n",
    "\n",
    "light = 'yellow'\n",
    "\n",
    "if(light=='red'): \n",
    "    print('stop')\n",
    "if(light=='yellow'):\n",
    "    print('be ready to move')\n",
    "if(light=='green'):\n",
    "    print('go')\n",
    "else :\n",
    "    print('lights are not working')\n",
    "\n"
   ]
  },
  {
   "cell_type": "code",
   "execution_count": null,
   "id": "b29bd9b6",
   "metadata": {},
   "outputs": [
    {
     "name": "stdout",
     "output_type": "stream",
     "text": [
      "dont drive\n"
     ]
    }
   ],
   "source": [
    "# nested conditional \n",
    "\n",
    "age = int(input(\"enter age\"))\n",
    "\n",
    "if (age>18):\n",
    "    if(age>80):\n",
    "        print('dont drive')\n",
    "    else:\n",
    "        print('drive')\n",
    "else:\n",
    "    print('dont drive')\n",
    "\n"
   ]
  },
  {
   "cell_type": "code",
   "execution_count": null,
   "id": "0e26fbec",
   "metadata": {},
   "outputs": [
    {
     "name": "stdout",
     "output_type": "stream",
     "text": [
      "its an odd number\n"
     ]
    }
   ],
   "source": [
    "# check if an even number is multiple of 4\n",
    "\n",
    "num = int(input('enter a num'))\n",
    "\n",
    "if(num%2==0):\n",
    "    print('its an even number')\n",
    "    if(num%4==0):\n",
    "        print('yes its a multiple')\n",
    "else:\n",
    "    print('its an odd number')\n"
   ]
  },
  {
   "cell_type": "markdown",
   "id": "7323464f",
   "metadata": {},
   "source": [
    "List and its methods"
   ]
  },
  {
   "cell_type": "code",
   "execution_count": null,
   "id": "c3199fac",
   "metadata": {},
   "outputs": [
    {
     "name": "stdout",
     "output_type": "stream",
     "text": [
      "1. ['apple', 2, 6, True, 'headphone', 23.67]\n",
      "2 6\n",
      "3 1\n",
      "4 apple\n",
      "5 <built-in method sort of list object at 0x10811a500>\n",
      "6 [12, 22, 32, 43, 53, 65, 88]\n",
      "7 [12, 22, 32, 43, 53, 65, 88]\n",
      "8 <built-in function sorted>\n",
      "9 ['apple', 2, 6, True, 'headphone', 23.67]\n",
      "[22, 32, 43, 53, 65, 88]\n",
      "[91, 22, 32, 43, 53, 65, 88]\n",
      "[22, 32, 43, 53, 65, 88]\n"
     ]
    }
   ],
   "source": [
    "list1 = ['apple',2,6,True,'headphone',23.67,]\n",
    "list2 = [12,32,53,43,22,88,65]\n",
    "\n",
    "print(\"1.\",list1)\n",
    "print(\"2\",len(list1))\n",
    "print(\"3\",list1.count('apple'))\n",
    "print(\"4\",list1[0])\n",
    "\n",
    "sort_l1 = list1.sort # sort method not applicable for hetrogeneous list\n",
    "print(\"5\",sort_l1)\n",
    "\n",
    "# sort_l2 = list2.sort() # this method sorts original list and returns none , so i cant store its value in another variable\n",
    "list2.sort()\n",
    "print(\"6\",list2)\n",
    "\n",
    "sort_l2 =sorted(list2)\n",
    "print(\"7\",sort_l2) # this is a class function which created a new sorted list \n",
    "print(\"8\",sorted)\n",
    "\n",
    "copy_l1 = list1.copy()\n",
    "print(\"9\",copy_l1)\n",
    "\n",
    "list2.remove(12)\n",
    "print(list2)\n",
    "\n",
    "list2.insert(0,91)\n",
    "print(list2)\n",
    "\n",
    "list2.pop(0)\n",
    "print(list2)"
   ]
  },
  {
   "cell_type": "code",
   "execution_count": null,
   "id": "74b0507f",
   "metadata": {},
   "outputs": [
    {
     "name": "stdout",
     "output_type": "stream",
     "text": [
      "[23.67, 'headphone', True, 6, 2, 'apple']\n",
      "[]\n",
      "[]\n"
     ]
    }
   ],
   "source": [
    "list1.reverse()\n",
    "print(list1)\n",
    "\n",
    "empty_list =[]\n",
    "empty_list2=list()\n",
    "print(empty_list)\n",
    "print(empty_list2)\n"
   ]
  },
  {
   "cell_type": "markdown",
   "id": "6bfc521d",
   "metadata": {},
   "source": [
    "** Tuples **"
   ]
  },
  {
   "cell_type": "code",
   "execution_count": null,
   "id": "ec4cb766",
   "metadata": {},
   "outputs": [
    {
     "name": "stdout",
     "output_type": "stream",
     "text": [
      "(32, 43, 54, 44, 12)\n",
      "()\n",
      "(23,)\n",
      "<class 'tuple'>\n",
      "32\n",
      "(32, 43, 54, 44, 12)\n",
      "(12, 44, 54, 43, 32)\n",
      "1\n",
      "1\n"
     ]
    }
   ],
   "source": [
    "# tuple - immuatble\n",
    "\n",
    "tup = (32,43,54,44,12)\n",
    "tup1=() # empty tuple\n",
    "tup2 = (23,) # tuple with single element\n",
    "\n",
    "print(tup)\n",
    "print(tup1)\n",
    "print(tup2)\n",
    "print(type(tup))\n",
    "\n",
    "print(tup[0])\n",
    "print(tup[0:])\n",
    "print(tup[::-1])\n",
    "\n",
    "print(tup.index(43)) # index of element =43  which is at 2nd place\n",
    "print(tup.count(43)) # occurance of the element"
   ]
  },
  {
   "cell_type": "code",
   "execution_count": null,
   "id": "6611296c",
   "metadata": {},
   "outputs": [
    {
     "name": "stdout",
     "output_type": "stream",
     "text": [
      "{'name': 'Mark', 'Age': 24, 'job': 'Clerk'}\n",
      "24\n",
      "{'name': 'Mark', 'Age': 27, 'job': 'Clerk'}\n",
      "{'name': 'Pete'}\n",
      "{'name': 'Kent', 'age': 25, 'marks': {'eng': 85, 'maths': 76, 'science': 95}}\n",
      "76\n",
      "dict_keys(['name', 'Age', 'job'])\n",
      "dict_values(['Mark', 27, 'Clerk'])\n",
      "dict_keys(['name', 'age', 'marks'])\n",
      "dict_items([('name', 'Mark'), ('Age', 27), ('job', 'Clerk')])\n",
      "None\n",
      "{'name': 'Mark', 'job': 'Clerk'}\n"
     ]
    }
   ],
   "source": [
    "# Dictionary (key, value)\n",
    "\n",
    "dict = {'name':'Mark',\n",
    "        'Age':24,\n",
    "        'job':'Clerk'}\n",
    "\n",
    "print(dict)\n",
    "print(dict['Age']) # access via key 'age'\n",
    "\n",
    "dict['Age']=27 # updating key 'age to 27\n",
    "print(dict)\n",
    "\n",
    "dict2 ={'name':'Harvey',\n",
    "        'name':'Pete'} # last key value is retained ,overwriting previous keys\n",
    "print(dict2)\n",
    "\n",
    "# nested dictionary\n",
    "\n",
    "dict_nested = {'name':'Kent',\n",
    "               'age':25,\n",
    "                'marks':{\n",
    "                    'eng':85,\n",
    "                    'maths':76,\n",
    "                    'science':95\n",
    "                } }\n",
    "\n",
    "print(dict_nested)\n",
    "print(dict_nested['marks']['maths'])\n",
    "\n",
    "print(dict.keys())\n",
    "print(dict.values())\n",
    "print(dict_nested.keys())\n",
    "\n",
    "print(dict.items())\n",
    "\n",
    "print(dict.get('sdfs')) # method to fetch a key value pair using key \n",
    "dict.update({'Age':63}) # updating age to 63 for dict\n",
    "dict\n",
    "\n",
    "dict.pop('Age') # delete the Age key value pair\n",
    "dict\n",
    "\n",
    "dict.clear\n",
    "print(dict)\n",
    "\n",
    "\n"
   ]
  },
  {
   "cell_type": "code",
   "execution_count": null,
   "id": "d743a7bf",
   "metadata": {},
   "outputs": [
    {
     "name": "stdout",
     "output_type": "stream",
     "text": [
      "{65, 1, 2, 3, 4, 6, 8, 43, 15}\n",
      "{1, 2}\n",
      "{}\n",
      "{(1, 2, 3, 4), 1, 'apple'}\n",
      "<class 'dict'>\n",
      "{65, 1, 2, 3, 4, 6, 8, 9, 43, 15}\n",
      "remove 15 > {65, 1, 2, 3, 4, 6, 8, 9, 43}\n",
      "clear > {65, 1, 2, 3, 4, 6, 8, 9, 43}\n",
      "pop >  {1, 2, 3, 4, 6, 8, 9, 43}\n",
      "{1, 2, 3, 4, 6, 8, 9, 43}\n",
      "{1, 2}\n"
     ]
    }
   ],
   "source": [
    "# SET (Unique and immutable)\n",
    "\n",
    "num = {1,2,3,4,6,8,15,43,65}\n",
    "\n",
    "num2 = {1,2,2,2}\n",
    "num3 = {}\n",
    "num4 = {1,'apple',(1,2,3,4)}\n",
    "\n",
    "print(num)\n",
    "print(num2)\n",
    "print(num3)\n",
    "print(num4)\n",
    "print(type(num3))\n",
    "\n",
    "# methods\n",
    "\n",
    "num.add(9)\n",
    "print(num)\n",
    "\n",
    "num.remove(15)\n",
    "print(\"remove 15 >\",num)\n",
    "\n",
    "num.clear # clear method  calls with no output\n",
    "print(\"clear >\",num)\n",
    "\n",
    "num.pop()\n",
    "print(\"pop > \",num)\n",
    "\n",
    "union_set = num.union(num2)\n",
    "intersection_set = num.intersection(num2)\n",
    "print(union_set)\n",
    "print(intersection_set)\n"
   ]
  },
  {
   "cell_type": "markdown",
   "id": "48d69253",
   "metadata": {},
   "source": [
    "** File Handling **"
   ]
  },
  {
   "cell_type": "code",
   "execution_count": 2,
   "id": "9ab01d78",
   "metadata": {},
   "outputs": [
    {
     "name": "stdout",
     "output_type": "stream",
     "text": [
      "/Users/abhisheksaini/Documents/Python/Practice:Revision/Fundamentals\n",
      "/Users/abhisheksaini/Documents/Python/Practice:Revision/Fundamentals\n"
     ]
    }
   ],
   "source": [
    "import os\n",
    "print(os.getcwd())\n",
    "os.chdir('/Users/abhisheksaini/Documents/Python/Practice:Revision/Fundamentals')\n",
    "print(os.getcwd())\n"
   ]
  },
  {
   "cell_type": "code",
   "execution_count": null,
   "id": "4f2ecd14",
   "metadata": {},
   "outputs": [
    {
     "name": "stdout",
     "output_type": "stream",
     "text": [
      "/Users/abhisheksaini/Documents/Python/Practice:Revision/Fundamentals\n"
     ]
    },
    {
     "data": {
      "text/plain": [
       "['.DS_Store',\n",
       " 'a.txt',\n",
       " '.venv',\n",
       " 'py1.py',\n",
       " 'JN_practice1_fundamentals.ipynb',\n",
       " '.vscode']"
      ]
     },
     "execution_count": 338,
     "metadata": {},
     "output_type": "execute_result"
    }
   ],
   "source": [
    "print(os.getcwd())\n",
    "os.listdir()"
   ]
  },
  {
   "cell_type": "code",
   "execution_count": null,
   "id": "8018bffd",
   "metadata": {},
   "outputs": [
    {
     "name": "stdout",
     "output_type": "stream",
     "text": [
      "['.DS_Store', 'a.txt', '.venv', 'py1.py', 'JN_practice1_fundamentals.ipynb', '.vscode', 'Demo1']\n",
      "/Users/abhisheksaini/Documents/Python/Practice:Revision/Fundamentals/Demo1\n"
     ]
    }
   ],
   "source": [
    "# os.mkdir('/Users/abhisheksaini/Documents/Python/Practice:Revision/Fundamentals/new_folder')\n",
    "# os.rmdir('/Users/abhisheksaini/Documents/Python/Practice:Revision/Fundamentals/new_folder')\n",
    "print(os.listdir())\n",
    "\n",
    "directory = \"Demo1\" # created a folder demo1 without assigning a path\n",
    "parent_dir = \"/Users/abhisheksaini/Documents/Python/Practice:Revision/Fundamentals/\" # created another variable with path\n",
    "path = os.path.join(parent_dir,directory) #joined path  and saved in path \n",
    "print(path)\n",
    "\n",
    "#os.mkdir(path)\n",
    "file = 'text.txt'\n",
    "os.path.join(path,file)\n",
    "# os.rmdir(path)\n",
    "file_path = os.path.join(path, file)\n",
    "\n",
    "with open(file_path, 'w') as f:\n",
    "    f.write(\"\")  # Creates an empty file\n",
    "\n",
    "\n"
   ]
  },
  {
   "cell_type": "code",
   "execution_count": null,
   "id": "9800a03d",
   "metadata": {},
   "outputs": [
    {
     "name": "stdout",
     "output_type": "stream",
     "text": [
      "<_io.TextIOWrapper name='/Users/abhisheksaini/Documents/Python/Practice:Revision/Fundamentals/Demo1/text.txt' mode='r' encoding='UTF-8'>\n",
      "Hi it's abhishek .\n",
      "this is a test file created to check the file handling feature of python.\n",
      "\n",
      "\n"
     ]
    }
   ],
   "source": [
    "#pwd #'/Users/abhisheksaini/Documents/Python/Practice:Revision/Fundamentals'\n",
    "\n",
    "myfile = open(file_path)\n",
    "print(myfile)\n",
    "print(myfile.read())"
   ]
  },
  {
   "cell_type": "code",
   "execution_count": null,
   "id": "71992685",
   "metadata": {},
   "outputs": [
    {
     "ename": "ValueError",
     "evalue": "I/O operation on closed file.",
     "output_type": "error",
     "traceback": [
      "\u001b[0;31m---------------------------------------------------------------------------\u001b[0m",
      "\u001b[0;31mValueError\u001b[0m                                Traceback (most recent call last)",
      "Cell \u001b[0;32mIn[388], line 2\u001b[0m\n\u001b[1;32m      1\u001b[0m \u001b[38;5;66;03m#myfile.seek(0)\u001b[39;00m\n\u001b[0;32m----> 2\u001b[0m \u001b[38;5;28mprint\u001b[39m(\u001b[43mmyfile\u001b[49m\u001b[38;5;241;43m.\u001b[39;49m\u001b[43mread\u001b[49m\u001b[43m(\u001b[49m\u001b[43m)\u001b[49m) \u001b[38;5;66;03m# error occurs when reading the closed file\u001b[39;00m\n\u001b[1;32m      3\u001b[0m \u001b[38;5;28mprint\u001b[39m(myfile\u001b[38;5;241m.\u001b[39mread()) \n",
      "\u001b[0;31mValueError\u001b[0m: I/O operation on closed file."
     ]
    }
   ],
   "source": [
    "#myfile.seek(0)\n",
    "print(myfile.read()) # error occurs when reading the closed file\n",
    "myfile.close()\n",
    "print(myfile.read()) "
   ]
  },
  {
   "cell_type": "code",
   "execution_count": null,
   "id": "1db7481b",
   "metadata": {},
   "outputs": [
    {
     "data": {
      "text/plain": [
       "26"
      ]
     },
     "execution_count": 396,
     "metadata": {},
     "output_type": "execute_result"
    }
   ],
   "source": [
    "myfile = open('./text.txt', 'w' )\n",
    "myfile.write('This is a newly added line')"
   ]
  },
  {
   "cell_type": "code",
   "execution_count": null,
   "id": "f98cd80c",
   "metadata": {},
   "outputs": [
    {
     "name": "stdout",
     "output_type": "stream",
     "text": [
      "\n"
     ]
    }
   ],
   "source": [
    "#os.getcwd()\n",
    "#os.chdir('/Users/abhisheksaini/Documents/Python/Practice:Revision/Fundamentals/Demo1')\n",
    "# myfile = open('./text2.txt', 'w' ) # new file with name text2 is written if not present otherwise overwritten on present file of same name\n",
    "\n",
    "# now we will open a already existing file named text.txt\n",
    "\n",
    "#file_1 = open('./text.txt','w+')\n",
    "file_1 = open('./text.txt','a+')\n",
    "file_1.write(\"\\n new line 123\")\n",
    "print(file_1.read())\n"
   ]
  },
  {
   "cell_type": "code",
   "execution_count": null,
   "id": "f9384d50",
   "metadata": {},
   "outputs": [
    {
     "name": "stdout",
     "output_type": "stream",
     "text": [
      "new line 123new line 123\n",
      " new line 123\n",
      "line 3\n",
      "line 4\n",
      "line 5\n"
     ]
    }
   ],
   "source": [
    "# Iterating through a text file \n",
    "\n",
    "with open('./text.txt','r') as text_file:\n",
    "    for line in text_file:\n",
    "        print(line, end= '')"
   ]
  },
  {
   "cell_type": "code",
   "execution_count": null,
   "id": "1d72c553",
   "metadata": {},
   "outputs": [
    {
     "name": "stdout",
     "output_type": "stream",
     "text": [
      "no such file\n"
     ]
    }
   ],
   "source": [
    "# Exception handling\n",
    "\n",
    "try:\n",
    "    myfile = open('./text3.txt','r')\n",
    "    content = myfile.read()\n",
    "    print(content)\n",
    "except:\n",
    "    print('no such file')\n",
    "finally:\n",
    "    myfile.close"
   ]
  },
  {
   "cell_type": "code",
   "execution_count": null,
   "id": "f29f6fb6",
   "metadata": {},
   "outputs": [
    {
     "name": "stdout",
     "output_type": "stream",
     "text": [
      "Defaulting to user installation because normal site-packages is not writeable\n",
      "Requirement already satisfied: Pillow in /Users/abhisheksaini/Library/Python/3.9/lib/python/site-packages (11.3.0)\n"
     ]
    }
   ],
   "source": [
    "!pip install Pillow\n",
    "\n",
    "from PIL import Image\n",
    "\n",
    "img = Image.open(\"./red_color.jpeg\")  # 1. Open the image\n",
    "img.show()                            # 2. Display the image"
   ]
  },
  {
   "cell_type": "code",
   "execution_count": null,
   "id": "0e900747",
   "metadata": {},
   "outputs": [
    {
     "name": "stdout",
     "output_type": "stream",
     "text": [
      "16\n",
      "['1', '4', '7', '8', '1', '3', '1', '7', '2', '0']\n"
     ]
    }
   ],
   "source": [
    "# with open('numfile.txt','w+') as f:\n",
    "#     f.write('1,4,7,8,13,17,20')\n",
    "\n",
    "with open('numfile.txt','r') as f:\n",
    "    data = f.read()\n",
    "    list_num=[]\n",
    "    i=0\n",
    "    print(data.__len__())\n",
    "\n",
    "    for nums in data:\n",
    "        if nums !=',':\n",
    "            list_num.append(nums)\n",
    " \n",
    "print(list_num)\n",
    "    \n",
    "\n",
    "\n"
   ]
  },
  {
   "cell_type": "code",
   "execution_count": 103,
   "id": "b50c45b8",
   "metadata": {},
   "outputs": [
    {
     "name": "stdout",
     "output_type": "stream",
     "text": [
      "['1', '2', '3', '4']\n"
     ]
    }
   ],
   "source": [
    "# l1 =['1','3','6','8','15']\n",
    "# l2 =[]\n",
    "# l3=[]\n",
    "# for i in l1:\n",
    "#     print(i)\n",
    "#     l3.append(i)\n",
    "# print(l3)\n",
    "\n",
    "# l2.append(l1[0])\n",
    "# print(l2)\n",
    "\n",
    "# a='1,2,3,4'\n",
    "# b=[]\n",
    "# b=a\n",
    "# print(b)\n",
    "# print(type(b))\n",
    "# print(len(b))\n",
    "\n",
    "l5=[]\n",
    "for i in a:\n",
    "    if i != ',':\n",
    "        l5.append(i)        \n",
    "print(l5)    \n",
    "\n"
   ]
  },
  {
   "cell_type": "code",
   "execution_count": null,
   "id": "252bf0a2",
   "metadata": {},
   "outputs": [],
   "source": []
  },
  {
   "cell_type": "markdown",
   "id": "c26c7097",
   "metadata": {},
   "source": [
    "**OOPS Concepts Python**"
   ]
  },
  {
   "cell_type": "code",
   "execution_count": null,
   "id": "3a8628f4",
   "metadata": {},
   "outputs": [
    {
     "name": "stdout",
     "output_type": "stream",
     "text": [
      "<function greet at 0x1078388b0>\n"
     ]
    }
   ],
   "source": [
    "def greet():\n",
    "    name = input(\"enter your name\")\n",
    "    print(\"hello there\",name)\n",
    "\n",
    "print(greet)"
   ]
  },
  {
   "cell_type": "code",
   "execution_count": null,
   "id": "eca9aa4d",
   "metadata": {},
   "outputs": [],
   "source": [
    "class car:\n",
    "    def __init__(self):  # default constructor\n",
    "        pass\n",
    "    Industry_name = \"Auto Mobile\" # class attribute\n",
    "    def __init__(self,modelname,CODE): # parametrized constructor\n",
    "         self.modelname = modelname #object attribute\n",
    "         self.CODE = CODE\n",
    "\n",
    "c1 = car(\"Audi\",\"AUS0101\")\n"
   ]
  },
  {
   "cell_type": "code",
   "execution_count": 154,
   "id": "a714e5a5",
   "metadata": {},
   "outputs": [
    {
     "name": "stdout",
     "output_type": "stream",
     "text": [
      "Audi\n",
      "AUS0101\n",
      "Auto Mobile\n"
     ]
    }
   ],
   "source": [
    "print(c1.modelname)\n",
    "print(c1.CODE)\n",
    "print(car.Industry_name)"
   ]
  },
  {
   "cell_type": "code",
   "execution_count": null,
   "id": "ef61935d",
   "metadata": {},
   "outputs": [
    {
     "name": "stdout",
     "output_type": "stream",
     "text": [
      "Aman\n",
      "<bound method student.hello of <__main__.student object at 0x1078136a0>>\n"
     ]
    }
   ],
   "source": [
    "# Methods are the functions that belong to objects\n",
    "\n",
    "# creating class\n",
    "class student:\n",
    "    def __init__(self,fullname): #init method is created automatically when an object is created \n",
    "        self.name = fullname\n",
    "\n",
    "    def hello(self):  # Custom method \n",
    "        print(\"hello\",self.name)\n",
    "        \n",
    "   \n",
    "\n",
    "\n",
    "# creating object\n",
    "s1 = student(\"Aman\")\n",
    "print(s1.name)\n",
    "\n",
    "\n",
    "s2 =student(\"raj\")\n",
    "print(s1.hello)\n",
    "\n",
    "\n",
    "\n"
   ]
  },
  {
   "cell_type": "markdown",
   "id": "d6687b6a",
   "metadata": {},
   "source": [
    "Error Handling\n",
    "\n",
    "1. Syntax Error\n",
    "2. Runtime Error\n",
    "3. Logical Error"
   ]
  },
  {
   "cell_type": "code",
   "execution_count": null,
   "id": "f57a58c5",
   "metadata": {},
   "outputs": [],
   "source": [
    "# 1 Syntax Error\n",
    "\n",
    "# Wrong or missing parenthesis \n",
    "# Wrong Spelling\n",
    "\n",
    "# 2 Runtime Error\n",
    "\n",
    "# Zero division error\n",
    "\n",
    "# 3 Logical Error\n",
    "\n",
    "# logically wrong expression"
   ]
  },
  {
   "cell_type": "code",
   "execution_count": null,
   "id": "81fc209c",
   "metadata": {},
   "outputs": [],
   "source": [
    "# 1 Index Error - Wrong or missing index in list or similar \n",
    "# 2 Key Error - Wrong or missing key in dictionary\n",
    "# 3 Module Not Found Error - Wrong Module name .eg panda instead of pandas\n",
    "# 4 Type Error - Different data type operation issue eg. str+int\n",
    "# 5 Name Error - wrong variable or object\n",
    "# Zero Division Error - "
   ]
  },
  {
   "cell_type": "markdown",
   "id": "d4950c95",
   "metadata": {},
   "source": [
    "Try Except "
   ]
  },
  {
   "cell_type": "code",
   "execution_count": null,
   "id": "f9ff85bf",
   "metadata": {},
   "outputs": [
    {
     "name": "stdout",
     "output_type": "stream",
     "text": [
      "this gets executed if there is an error\n"
     ]
    }
   ],
   "source": [
    "try:\n",
    "    x=1/0 # expresion with probable error\n",
    "    print(\"this gets executed first\") # to execute if no error\n",
    "   \n",
    "except:\n",
    "    print('this gets executed if there is an error') # to execute if error"
   ]
  },
  {
   "cell_type": "code",
   "execution_count": null,
   "id": "f69c1688",
   "metadata": {},
   "outputs": [
    {
     "name": "stdout",
     "output_type": "stream",
     "text": [
      "wrong name of variable\n",
      "its final message \n"
     ]
    }
   ],
   "source": [
    "try:\n",
    "    a = int(input('enter a number'))\n",
    "    b = int(input('enter a number'))\n",
    "    result = a/c\n",
    "    print(result)\n",
    "\n",
    "except ZeroDivisionError:\n",
    "    print('the denominator cannot be zero')\n",
    "\n",
    "except NameError:\n",
    "    print('wrong name of variable')\n",
    "\n",
    "except:\n",
    "    print('the value entered is not valid')\n",
    "\n",
    "else:\n",
    "    print('trial succeded')\n",
    "finally:\n",
    "    print('its final message ')\n",
    "\n"
   ]
  },
  {
   "cell_type": "markdown",
   "id": "77297965",
   "metadata": {},
   "source": [
    "Raising Exception"
   ]
  },
  {
   "cell_type": "code",
   "execution_count": 123,
   "id": "ac4b2c7e",
   "metadata": {},
   "outputs": [
    {
     "ename": "RuntimeError",
     "evalue": " my error message",
     "output_type": "error",
     "traceback": [
      "\u001b[0;31m---------------------------------------------------------------------------\u001b[0m",
      "\u001b[0;31mRuntimeError\u001b[0m                              Traceback (most recent call last)",
      "Cell \u001b[0;32mIn[123], line 1\u001b[0m\n\u001b[0;32m----> 1\u001b[0m \u001b[38;5;28;01mraise\u001b[39;00m \u001b[38;5;167;01mRuntimeError\u001b[39;00m (\u001b[38;5;124m'\u001b[39m\u001b[38;5;124m my error message\u001b[39m\u001b[38;5;124m'\u001b[39m)\n",
      "\u001b[0;31mRuntimeError\u001b[0m:  my error message"
     ]
    }
   ],
   "source": [
    "raise RuntimeError (' my error message')"
   ]
  },
  {
   "cell_type": "code",
   "execution_count": null,
   "id": "dc93adbd",
   "metadata": {},
   "outputs": [],
   "source": []
  },
  {
   "cell_type": "code",
   "execution_count": null,
   "id": "4caab5a8",
   "metadata": {},
   "outputs": [
    {
     "name": "stdout",
     "output_type": "stream",
     "text": [
      "Ok your exception is resolved\n"
     ]
    }
   ],
   "source": []
  }
 ],
 "metadata": {
  "kernelspec": {
   "display_name": ".venv",
   "language": "python",
   "name": "python3"
  },
  "language_info": {
   "codemirror_mode": {
    "name": "ipython",
    "version": 3
   },
   "file_extension": ".py",
   "mimetype": "text/x-python",
   "name": "python",
   "nbconvert_exporter": "python",
   "pygments_lexer": "ipython3",
   "version": "3.9.6"
  }
 },
 "nbformat": 4,
 "nbformat_minor": 5
}
